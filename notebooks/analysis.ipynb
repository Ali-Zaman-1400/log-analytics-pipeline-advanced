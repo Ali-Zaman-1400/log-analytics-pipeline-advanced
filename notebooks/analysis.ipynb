{
 "cells": [{
  "cell_type": "code",
  "source": [
   "import pandas as pd\n",
   "import matplotlib.pyplot as plt\n",
   "df = pd.read_csv('../data/cleaned/cleaned_logs_latest.csv')\n",
   "df['level'].value_counts().plot(kind='bar', color=['green','orange','red'])\n",
   "plt.title('Log Levels Distribution')\n",
   "plt.show()"
  ]
 }],
 "metadata": {"kernelspec": {"name": "python3"}},
 "nbformat": 4, "nbformat_minor": 5
}